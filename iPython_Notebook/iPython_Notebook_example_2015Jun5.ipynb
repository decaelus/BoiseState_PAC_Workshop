{
 "metadata": {
  "name": "",
  "signature": "sha256:999c2b81acb3b18a4c5a72eb92d18871f41c3c4f8abbf86c4634f4ec18ca6f51"
 },
 "nbformat": 3,
 "nbformat_minor": 0,
 "worksheets": [
  {
   "cells": [
    {
     "cell_type": "markdown",
     "metadata": {},
     "source": [
      "####This is an example of text."
     ]
    },
    {
     "cell_type": "code",
     "collapsed": false,
     "input": [
      "#In a code cell, \"#\" marks a comment line.\n",
      "\n",
      "#Here's how to import a python module and rename it:\n",
      "import numpy as np #Then press shift-enter to compile this cell and make a new one."
     ],
     "language": "python",
     "metadata": {},
     "outputs": [],
     "prompt_number": 1
    },
    {
     "cell_type": "code",
     "collapsed": false,
     "input": [
      "#Here's a new variable array with the numbers 0 to 10.\n",
      "x = np.linspace(0, 10, num=11)"
     ],
     "language": "python",
     "metadata": {},
     "outputs": [],
     "prompt_number": 2
    },
    {
     "cell_type": "code",
     "collapsed": false,
     "input": [
      "#Pressing ctrl-enter compiles a cell without making a new one.\n",
      "print(x)"
     ],
     "language": "python",
     "metadata": {},
     "outputs": [
      {
       "output_type": "stream",
       "stream": "stdout",
       "text": [
        "[  0.   1.   2.   3.   4.   5.   6.   7.   8.   9.  10.]\n"
       ]
      }
     ],
     "prompt_number": 4
    }
   ],
   "metadata": {}
  }
 ]
}