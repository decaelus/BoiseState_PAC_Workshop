{
 "cells": [
  {
   "cell_type": "code",
   "execution_count": 2,
   "metadata": {
    "collapsed": true
   },
   "outputs": [],
   "source": [
    "#this is a comment"
   ]
  },
  {
   "cell_type": "code",
   "execution_count": 3,
   "metadata": {
    "collapsed": false
   },
   "outputs": [
    {
     "name": "stdout",
     "output_type": "stream",
     "text": [
      "yes\n"
     ]
    }
   ],
   "source": [
    "\"\"\"\n",
    "hello everyone you are cool \n",
    "not really\n",
    "jk\n",
    "\"\"\"\n",
    "if 1==1:\n",
    "    print(\"yes\")\n",
    "    "
   ]
  },
  {
   "cell_type": "code",
   "execution_count": 7,
   "metadata": {
    "collapsed": false
   },
   "outputs": [
    {
     "name": "stdout",
     "output_type": "stream",
     "text": [
      "(<type 'float'>, <type 'float'>, <type 'int'>)\n"
     ]
    }
   ],
   "source": [
    "my_int = 1.\n",
    "my_float = 1.23\n",
    "my_bool = 1\n",
    "print(type(my_int),type(my_float),type(my_bool))"
   ]
  },
  {
   "cell_type": "code",
   "execution_count": 10,
   "metadata": {
    "collapsed": false
   },
   "outputs": [],
   "source": [
    "my_string = \"Hello\"\n",
    "#help(type)"
   ]
  },
  {
   "cell_type": "code",
   "execution_count": 21,
   "metadata": {
    "collapsed": false
   },
   "outputs": [
    {
     "name": "stdout",
     "output_type": "stream",
     "text": [
      "With tax: 109.000000 109.000000\n",
      "With tip: 125.350000 euros\n",
      "With tip: 115.000000 sheep\n",
      "Help on function tax in module __main__:\n",
      "\n",
      "tax(bill, tax_rate=0.08)\n",
      "    Adds 8% tax to a restaurant bill.\n",
      "    Arguments:\n",
      "    bill -- the bill\n",
      "    \n",
      "    Keywords:\n",
      "    tax_rate -- the tax rate\n",
      "\n"
     ]
    }
   ],
   "source": [
    "def tax(bill, tax_rate=0.08):\n",
    "    \"\"\"Adds 8% tax to a restaurant bill.\n",
    "    Arguments:\n",
    "    bill -- the bill\n",
    "    \n",
    "    Keywords:\n",
    "    tax_rate -- the tax rate\n",
    "    \"\"\"\n",
    "#    bill *= 1.08 #bill = bill * 1.08\n",
    "    bill *= (1. + tax_rate)\n",
    "    print(\"With tax: %f %f\" %(bill, bill))\n",
    "    return bill\n",
    "\n",
    "def tip(bill, currency):\n",
    "    \"\"\"Adds 15% tip to a restaurant bill and prints currency name.\n",
    "    Arguments:\n",
    "        bill -- the bill\n",
    "    \n",
    "    currency -- currency name \n",
    "    \"\"\"\n",
    "    bill *= 1.15\n",
    "    print(\"With tip: %f %s\" %(bill, currency))\n",
    "    return bill\n",
    "    \n",
    "meal_cost = 100\n",
    "meal_with_tax = tax(meal_cost, tax_rate=0.09)\n",
    "meal_with_tip = tip(meal_with_tax, \"euros\")\n",
    "meal_with_tip = tip(meal_cost, \"sheep\")\n",
    "help(tax)"
   ]
  },
  {
   "cell_type": "code",
   "execution_count": null,
   "metadata": {
    "collapsed": true
   },
   "outputs": [],
   "source": []
  }
 ],
 "metadata": {
  "kernelspec": {
   "display_name": "Python 2",
   "language": "python",
   "name": "python2"
  },
  "language_info": {
   "codemirror_mode": {
    "name": "ipython",
    "version": 2
   },
   "file_extension": ".py",
   "mimetype": "text/x-python",
   "name": "python",
   "nbconvert_exporter": "python",
   "pygments_lexer": "ipython2",
   "version": "2.7.9"
  }
 },
 "nbformat": 4,
 "nbformat_minor": 0
}
