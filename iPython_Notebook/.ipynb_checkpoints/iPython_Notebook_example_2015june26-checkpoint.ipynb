{
 "cells": [
  {
   "cell_type": "code",
   "execution_count": 17,
   "metadata": {
    "collapsed": false
   },
   "outputs": [
    {
     "name": "stdout",
     "output_type": "stream",
     "text": [
      "input too short\n",
      "o\n"
     ]
    }
   ],
   "source": [
    "def list_function(x):\n",
    "    \"\"\"\n",
    "    If input length is equal too or greater than 4, \n",
    "    returns 4th member of list.\n",
    "    Otherwise, returns message to user saying input too short\n",
    "    \"\"\"\n",
    "    if len(x) >= 4:\n",
    "        return x[4]\n",
    "    else:\n",
    "        return \"input too short\"\n",
    "n = [3, 5, 7]\n",
    "print(list_function(n))\n",
    "hi = \"hello\"\n",
    "print(list_function(hi))\n"
   ]
  },
  {
   "cell_type": "code",
   "execution_count": 8,
   "metadata": {
    "collapsed": false
   },
   "outputs": [
    {
     "name": "stdout",
     "output_type": "stream",
     "text": [
      "[3, 8, 7]\n"
     ]
    }
   ],
   "source": [
    "def list_function(x):\n",
    "    x[1] = (x[1] + 3)\n",
    "    return x\n",
    "n = [3, 5, 7]\n",
    "print(list_function(n))"
   ]
  },
  {
   "cell_type": "code",
   "execution_count": 1,
   "metadata": {
    "collapsed": false
   },
   "outputs": [
    {
     "name": "stdout",
     "output_type": "stream",
     "text": [
      "[0, 2, 4]\n"
     ]
    }
   ],
   "source": [
    "def my_function(x):\n",
    "    for i in range(0, len(x)):\n",
    "        x[i] = x[i] * 2\n",
    "    return x\n",
    "lst = range(0,3,1)\n",
    "print(my_function(lst))"
   ]
  },
  {
   "cell_type": "code",
   "execution_count": 2,
   "metadata": {
    "collapsed": false
   },
   "outputs": [
    {
     "name": "stdout",
     "output_type": "stream",
     "text": [
      "[0, 1, 2, 3, 4, 5]\n",
      "[1, 2, 3, 4, 5]\n",
      "[1, 4]\n"
     ]
    }
   ],
   "source": [
    "print(range(6))\n",
    "print(range(1,6))\n",
    "print(range(1,6,3))"
   ]
  },
  {
   "cell_type": "code",
   "execution_count": 6,
   "metadata": {
    "collapsed": false
   },
   "outputs": [
    {
     "name": "stdout",
     "output_type": "stream",
     "text": [
      "('Jeffrey', 2, True)\n",
      "('Bruce', 1, False)\n",
      "('Chad', 7, True)\n"
     ]
    }
   ],
   "source": [
    "# Class definition\n",
    "class Animal(object):\n",
    "    \"\"\"Makes cute animals.\"\"\"\n",
    "    # For initializing our instance objects\n",
    "    def __init__(self, name, age, is_hungry):\n",
    "        self.name = name\n",
    "        self.age = age\n",
    "        self.is_hungry = is_hungry\n",
    "\n",
    "# Note that self is only used in the __init__()\n",
    "# function definition; we don't need to pass it\n",
    "# to our instance objects.\n",
    "\n",
    "zebra = Animal(\"Jeffrey\", 2, True)\n",
    "giraffe = Animal(\"Bruce\", 1, False)\n",
    "panda = Animal(\"Chad\", 7, True)\n",
    "\n",
    "print(zebra.name, zebra.age, zebra.is_hungry)\n",
    "print(giraffe.name, giraffe.age, giraffe.is_hungry)\n",
    "print(panda.name, panda.age, panda.is_hungry)"
   ]
  },
  {
   "cell_type": "code",
   "execution_count": 7,
   "metadata": {
    "collapsed": false
   },
   "outputs": [
    {
     "name": "stdout",
     "output_type": "stream",
     "text": [
      "food added.\n",
      "{'food': 1.0}\n",
      "food is already in the cart.\n"
     ]
    }
   ],
   "source": [
    "class ShoppingCart(object):\n",
    "    \"\"\"Creates shopping cart objects\n",
    "    for users of our fine website.\"\"\"\n",
    "    items_in_cart = {}\n",
    "    def __init__(self, customer_name):\n",
    "        self.customer_name = customer_name\n",
    "    def add_item(self, product, price):\n",
    "        \"\"\"Add product to the cart.\"\"\"\n",
    "        if not product in self.items_in_cart:\n",
    "            self.items_in_cart[product] = price\n",
    "            print(product + \" added.\")\n",
    "        else:\n",
    "            print(product + \" is already in the cart.\")\n",
    "\n",
    "    def remove_item(self, product):\n",
    "        \"\"\"Remove product from the cart.\"\"\"\n",
    "        if product in self.items_in_cart:\n",
    "            del self.items_in_cart[product]\n",
    "            print(product + \" removed.\")\n",
    "        else:\n",
    "            print(product + \" is not in the cart.\")\n",
    "\n",
    "my_cart = ShoppingCart(\"Brian Jackson\")\n",
    "my_cart.add_item(\"food\", 1.0)\n",
    "print(my_cart.items_in_cart)\n",
    "my_cart.add_item(\"food\", 1.0)"
   ]
  }
 ],
 "metadata": {
  "kernelspec": {
   "display_name": "Python 2",
   "language": "python",
   "name": "python2"
  },
  "language_info": {
   "codemirror_mode": {
    "name": "ipython",
    "version": 2
   },
   "file_extension": ".py",
   "mimetype": "text/x-python",
   "name": "python",
   "nbconvert_exporter": "python",
   "pygments_lexer": "ipython2",
   "version": "2.7.9"
  }
 },
 "nbformat": 4,
 "nbformat_minor": 0
}
