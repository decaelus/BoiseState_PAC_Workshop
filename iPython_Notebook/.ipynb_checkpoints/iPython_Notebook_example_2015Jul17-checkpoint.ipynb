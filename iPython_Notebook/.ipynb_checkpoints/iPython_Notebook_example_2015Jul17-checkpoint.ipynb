{
 "cells": [
  {
   "cell_type": "code",
   "execution_count": 7,
   "metadata": {
    "collapsed": false
   },
   "outputs": [
    {
     "name": "stdout",
     "output_type": "stream",
     "text": [
      "['iPython_Notebook_example_2015Jul10.ipynb', 'iPython_Notebook_example_2015Jul17.ipynb', 'iPython_Notebook_example_2015jun12.ipynb', 'iPython_Notebook_example_2015jun19.ipynb', 'iPython_Notebook_example_2015Jun5.ipynb', 'iPython_Notebook_example_2015june26.ipynb']\n"
     ]
    }
   ],
   "source": [
    "import glob\n",
    "\n",
    "data_files = glob.glob(\"*.ipynb\")\n",
    "print(data_files)"
   ]
  }
 ],
 "metadata": {
  "kernelspec": {
   "display_name": "Python 2",
   "language": "python",
   "name": "python2"
  },
  "language_info": {
   "codemirror_mode": {
    "name": "ipython",
    "version": 2
   },
   "file_extension": ".py",
   "mimetype": "text/x-python",
   "name": "python",
   "nbconvert_exporter": "python",
   "pygments_lexer": "ipython2",
   "version": "2.7.9"
  }
 },
 "nbformat": 4,
 "nbformat_minor": 0
}
