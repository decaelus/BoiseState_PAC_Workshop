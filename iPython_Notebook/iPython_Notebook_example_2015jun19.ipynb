{
 "cells": [
  {
   "cell_type": "code",
   "execution_count": 1,
   "metadata": {
    "collapsed": false
   },
   "outputs": [
    {
     "name": "stdout",
     "output_type": "stream",
     "text": [
      "true\n"
     ]
    }
   ],
   "source": [
    "var1 = True \n",
    "var2 = False\n",
    "var3 = \"sup\"\n",
    "var4 = 1\n",
    "var5 = 1.0\n",
    "\n",
    "if var4 == var5:\n",
    "    print(\"true\")\n",
    "else:\n",
    "    print(\"false\")"
   ]
  },
  {
   "cell_type": "code",
   "execution_count": 1,
   "metadata": {
    "collapsed": false
   },
   "outputs": [
    {
     "name": "stdout",
     "output_type": "stream",
     "text": [
      "The first animal at the zoo is the pangolin\n",
      "The second animal at the zoo is the cassowary\n",
      "The third animal at the zoo is the sloth\n",
      "The fourth animal at the zoo is the oops\n",
      "dog\n"
     ]
    }
   ],
   "source": [
    "zoo_animals = [\"pangolin\", \"cassowary\", \"sloth\", \"oops\"];\n",
    "\n",
    "\n",
    "if len(zoo_animals) > 3:\n",
    "\tprint \"The first animal at the zoo is the \" + zoo_animals[0]\n",
    "\tprint \"The second animal at the zoo is the \" + zoo_animals[1]\n",
    "\tprint \"The third animal at the zoo is the \" + zoo_animals[2]\n",
    "\tprint \"The fourth animal at the zoo is the \" + zoo_animals[3]\n",
    "zoo_animals.append(\"dog\")\n",
    "print(zoo_animals[4])"
   ]
  },
  {
   "cell_type": "code",
   "execution_count": 9,
   "metadata": {
    "collapsed": false,
    "scrolled": true
   },
   "outputs": [
    {
     "name": "stdout",
     "output_type": "stream",
     "text": [
      "pangolin\n",
      "cassowary\n",
      "sloth\n",
      "oops\n",
      "[0, 1, 2, 3, 4, 5, 6, 7, 8, 9, 10, 11, 12, 13, 14]\n",
      "[0, 2, 4, 6, 8, 10, 12, 14, 16, 18, 20, 22, 24, 26, 28]\n"
     ]
    }
   ],
   "source": [
    "zoo_animals = [\"pangolin\", \"cassowary\", \"sloth\", \"oops\"]\n",
    "\n",
    "for animal in zoo_animals:\n",
    "    print animal\n",
    "\n",
    "number_list = []\n",
    "double_list = []\n",
    "\n",
    "for value in range(15):\n",
    "    number_list.append(value)\n",
    "    \n",
    "for value in number_list:\n",
    "    double_list.append(value*2)\n",
    "\n",
    "#for value in number_list:\n",
    " #   number_list.insert(value, value*2)\n",
    "    \n",
    "print(number_list)\n",
    "print(double_list)"
   ]
  },
  {
   "cell_type": "code",
   "execution_count": 6,
   "metadata": {
    "collapsed": false
   },
   "outputs": [
    {
     "name": "stdout",
     "output_type": "stream",
     "text": [
      "104\n",
      "105\n",
      "106\n"
     ]
    }
   ],
   "source": [
    "residents = {'Puffin' : 104, \n",
    "             'Sloth' : 105, \n",
    "             'Burmese Python' : 106}\n",
    "\n",
    "print residents['Puffin'] # Prints Puffin's room number\n",
    "\n",
    "print residents['Sloth']\n",
    "print residents['Burmese Python']"
   ]
  },
  {
   "cell_type": "code",
   "execution_count": null,
   "metadata": {
    "collapsed": true
   },
   "outputs": [],
   "source": []
  }
 ],
 "metadata": {
  "kernelspec": {
   "display_name": "Python 2",
   "language": "python",
   "name": "python2"
  },
  "language_info": {
   "codemirror_mode": {
    "name": "ipython",
    "version": 2
   },
   "file_extension": ".py",
   "mimetype": "text/x-python",
   "name": "python",
   "nbconvert_exporter": "python",
   "pygments_lexer": "ipython2",
   "version": "2.7.9"
  }
 },
 "nbformat": 4,
 "nbformat_minor": 0
}
